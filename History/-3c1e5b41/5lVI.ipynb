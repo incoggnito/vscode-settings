{
 "cells": [
  {
   "cell_type": "code",
   "execution_count": 10,
   "metadata": {},
   "outputs": [],
   "source": [
    "from win32com.client import Dispatch\n",
    "import win32com\n",
    "import os\n",
    "import sys\n",
    "\n",
    "f = open(\"testfile.txt\",\"w+\")\n",
    "\n",
    "mapi = Dispatch(\"Outlook.Application\").GetNamespace(\"MAPI\")\n",
    "inbox = mapi.GetDefaultFolder(6)\n",
    "messages = inbox.Items\n"
   ]
  },
  {
   "cell_type": "code",
   "execution_count": 8,
   "metadata": {},
   "outputs": [],
   "source": [
    "\n",
    "for message in list(messages)[0]:\n",
    "   try:\n",
    "\t   s = message.sender\n",
    "   except Exception as e:\n",
    "\t\tprint(\"error when processing emails messages:\" + str(e))"
   ]
  }
 ],
 "metadata": {
  "interpreter": {
   "hash": "fec082384bf153efa1fdf03b8e02aaf3c76cad9c4b2839c057b40a342e3cf5d9"
  },
  "kernelspec": {
   "display_name": "Python 3.8.8 64-bit",
   "language": "python",
   "name": "python3"
  },
  "language_info": {
   "codemirror_mode": {
    "name": "ipython",
    "version": 3
   },
   "file_extension": ".py",
   "mimetype": "text/x-python",
   "name": "python",
   "nbconvert_exporter": "python",
   "pygments_lexer": "ipython3",
   "version": "3.8.8"
  },
  "orig_nbformat": 4
 },
 "nbformat": 4,
 "nbformat_minor": 2
}
