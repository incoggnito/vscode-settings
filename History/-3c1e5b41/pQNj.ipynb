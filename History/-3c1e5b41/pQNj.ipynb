{
 "cells": [
  {
   "cell_type": "code",
   "execution_count": 4,
   "metadata": {},
   "outputs": [
    {
     "data": {
      "text/plain": [
       "<COMObject <unknown>>"
      ]
     },
     "execution_count": 4,
     "metadata": {},
     "output_type": "execute_result"
    }
   ],
   "source": [
    "from win32com.client import Dispatch\n",
    "import win32com\n",
    "import os\n",
    "import sys\n",
    "\n",
    "f = open(\"testfile.txt\",\"w+\")\n",
    "\n",
    "outlook = Dispatch(\"Outlook.Application\").GetNamespace(\"MAPI\")\n",
    "accounts= Dispatch(\"Outlook.Application\").Session.Accounts;\n"
   ]
  },
  {
   "cell_type": "code",
   "execution_count": 5,
   "metadata": {},
   "outputs": [],
   "source": [
    "def emailleri_al(folder):\n",
    "    messages = folder.Items\n",
    "    a=len(messages)\n",
    "    if a>0:\n",
    "        for message2 in messages:\n",
    "             try:\n",
    "                sender = message2.SenderEmailAddress\n",
    "                if sender != \"\":\n",
    "                    print(sender, file=f)\n",
    "             except:\n",
    "                print(\"Ben hatayım\")\n",
    "                print(account.DeliveryStore.DisplayName)\n",
    "                pass\n",
    "\n",
    "             try:\n",
    "                message2.Save\n",
    "                message2.Close(0)\n",
    "             except:\n",
    "                 pass"
   ]
  },
  {
   "cell_type": "code",
   "execution_count": 6,
   "metadata": {},
   "outputs": [
    {
     "ename": "NameError",
     "evalue": "name 'f' is not defined",
     "output_type": "error",
     "traceback": [
      "\u001b[1;31m---------------------------------------------------------------------------\u001b[0m",
      "\u001b[1;31mNameError\u001b[0m                                 Traceback (most recent call last)",
      "\u001b[1;32mc:\\Users\\ahofer\\Projekt\\devwiki\\Notebooks\\scrape_mail_contacts.ipynb Cell 3'\u001b[0m in \u001b[0;36m<cell line: 1>\u001b[1;34m()\u001b[0m\n\u001b[0;32m      <a href='vscode-notebook-cell:/c%3A/Users/ahofer/Projekt/devwiki/Notebooks/scrape_mail_contacts.ipynb#ch0000002?line=1'>2</a>\u001b[0m \u001b[39mglobal\u001b[39;00m inbox\n\u001b[0;32m      <a href='vscode-notebook-cell:/c%3A/Users/ahofer/Projekt/devwiki/Notebooks/scrape_mail_contacts.ipynb#ch0000002?line=2'>3</a>\u001b[0m inbox \u001b[39m=\u001b[39m outlook\u001b[39m.\u001b[39mFolders(account\u001b[39m.\u001b[39mDeliveryStore\u001b[39m.\u001b[39mDisplayName)\n\u001b[1;32m----> <a href='vscode-notebook-cell:/c%3A/Users/ahofer/Projekt/devwiki/Notebooks/scrape_mail_contacts.ipynb#ch0000002?line=3'>4</a>\u001b[0m \u001b[39mprint\u001b[39m(\u001b[39m\"\u001b[39m\u001b[39m****Account Name**********************************\u001b[39m\u001b[39m\"\u001b[39m,file\u001b[39m=\u001b[39mf)\n\u001b[0;32m      <a href='vscode-notebook-cell:/c%3A/Users/ahofer/Projekt/devwiki/Notebooks/scrape_mail_contacts.ipynb#ch0000002?line=4'>5</a>\u001b[0m \u001b[39mprint\u001b[39m(account\u001b[39m.\u001b[39mDisplayName,file\u001b[39m=\u001b[39mf)\n\u001b[0;32m      <a href='vscode-notebook-cell:/c%3A/Users/ahofer/Projekt/devwiki/Notebooks/scrape_mail_contacts.ipynb#ch0000002?line=5'>6</a>\u001b[0m \u001b[39mprint\u001b[39m(account\u001b[39m.\u001b[39mDisplayName)\n",
      "\u001b[1;31mNameError\u001b[0m: name 'f' is not defined"
     ]
    }
   ],
   "source": [
    "for account in accounts:\n",
    "    global inbox\n",
    "    inbox = outlook.Folders(account.DeliveryStore.DisplayName)\n",
    "    print(\"****Account Name**********************************\",file=f)\n",
    "    print(account.DisplayName,file=f)\n",
    "    print(account.DisplayName)\n",
    "    print(\"***************************************************\",file=f)\n",
    "    folders = inbox.Folders\n",
    "\n",
    "    for folder in folders:\n",
    "        print(\"****Folder Name**********************************\", file=f)\n",
    "        print(folder, file=f)\n",
    "        print(\"*************************************************\", file=f)\n",
    "        emailleri_al(folder)\n",
    "        a = len(folder.folders)\n",
    "\n",
    "        if a>0 :\n",
    "            global z\n",
    "            z = outlook.Folders(account.DeliveryStore.DisplayName).Folders(folder.name)\n",
    "            x = z.Folders\n",
    "            for y in x:\n",
    "                emailleri_al(y)\n",
    "                print(\"****Folder Name**********************************\", file=f)\n",
    "                print(\"...\"+y.name,file=f)\n",
    "                print(\"*************************************************\", file=f)"
   ]
  }
 ],
 "metadata": {
  "interpreter": {
   "hash": "fec082384bf153efa1fdf03b8e02aaf3c76cad9c4b2839c057b40a342e3cf5d9"
  },
  "kernelspec": {
   "display_name": "Python 3.8.8 64-bit",
   "language": "python",
   "name": "python3"
  },
  "language_info": {
   "codemirror_mode": {
    "name": "ipython",
    "version": 3
   },
   "file_extension": ".py",
   "mimetype": "text/x-python",
   "name": "python",
   "nbconvert_exporter": "python",
   "pygments_lexer": "ipython3",
   "version": "3.8.8"
  },
  "orig_nbformat": 4
 },
 "nbformat": 4,
 "nbformat_minor": 2
}
