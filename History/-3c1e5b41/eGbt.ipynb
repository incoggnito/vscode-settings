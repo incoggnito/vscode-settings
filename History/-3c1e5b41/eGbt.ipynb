{
 "cells": [
  {
   "cell_type": "code",
   "execution_count": 20,
   "metadata": {},
   "outputs": [],
   "source": [
    "from win32com.client import Dispatch\n",
    "import win32com\n",
    "import os\n",
    "import sys\n",
    "\n",
    "f = open(\"testfile.txt\",\"w+\")\n",
    "\n",
    "mapi = Dispatch(\"Outlook.Application\").GetNamespace(\"MAPI\")\n",
    "inbox = mapi.GetDefaultFolder(6)\n",
    "messages = list(inbox.Items)\n"
   ]
  },
  {
   "cell_type": "code",
   "execution_count": 22,
   "metadata": {},
   "outputs": [],
   "source": [
    "\n",
    "contacts = {}\n",
    "for message in messages[:1]:\n",
    "   contacts[\"mail\"] = message.sender\n",
    "   contacts[\"phone\"] = \n"
   ]
  },
  {
   "cell_type": "code",
   "execution_count": 24,
   "metadata": {},
   "outputs": [
    {
     "data": {
      "text/plain": [
       "' <https://simg.1und1.de/2016/SPINMobile/02/SPIN281-CUCO-17503-DE/topnav_bg.png> \\t <https://simg.1und1.de/2016/SPINMobile/02/SPIN281-CUCO-17503-DE/topnav_logo.png> \\t <https://simg.1und1.de/2016/SPINMobile/02/SPIN281-CUCO-17503-DE/topnav_c2805d35486f85ab7ed55c7a404f4d51_title.png> \\t <https://simg.1und1.de/2016/SPINMobile/02/SPIN281-CUCO-17503-DE/topnav_bg.png> \\t\\r\\n <https://simg.1und1.de/2016/SPINMobile/02/SPIN281-CUCO-17503-DE/stage_c2805d35486f85ab7ed55c7a404f4d51_left.png> \\t <https://simg.1und1.de/2016/SPINMobile/02/SPIN281-CUCO-17503-DE/stage_c2805d35486f85ab7ed55c7a404f4d51_center.png> \\t <https://simg.1und1.de/2016/SPINMobile/02/SPIN281-CUCO-17503-DE/stage_c2805d35486f85ab7ed55c7a404f4d51_right.png> \\t\\r\\n <https://simg.1und1.de/2016/SPINMobile/02/SPIN281-CUCO-17503-DE/px.gif> \\t\\r\\n <https://simg.1und1.de/2016/SPINMobile/02/SPIN281-CUCO-17503-DE/px.gif> \\tLiebe Kundin, lieber Kunde,\\r\\n\\r\\nherzlichen Dank, dass Sie sich für unser 1&1 Mail Basic Postfach entschieden haben. Mein Name ist Uwe Leyendecker. Gemeinsam mit meinem Team entwickle ich neue 1&1 Produkte wie den 1&1 E-Mail-Service und 1&1 Mail Basic für Sie.\\r\\n\\r\\nKennen Sie schon den 1&1 Webmailer? Er erleichtert Ihnen Ihre tägliche E-Mail-Kommunikation und bietet Ihnen viele nützliche Funktionen.\\r\\n\\r\\n <https://simg.1und1.de/2016/SPINMobile/02/SPIN281-CUCO-17503-DE/px.gif> \\t\\r\\n <https://simg.1und1.de/2016/SPINMobile/02/SPIN281-CUCO-17503-DE/px.gif> \\t <https://simg.1und1.de/2016/SPINMobile/02/SPIN281-CUCO-17503-DE/px.gif> \\t <https://simg.1und1.de/2016/SPINMobile/02/SPIN281-CUCO-17503-DE/box_c7_title.png> \\t <https://simg.1und1.de/2016/SPINMobile/02/SPIN281-CUCO-17503-DE/px.gif> \\t\\t <https://simg.1und1.de/2016/SPINMobile/02/SPIN281-CUCO-17503-DE/px.gif> \\t\\r\\n <https://simg.1und1.de/2016/SPINMobile/02/SPIN281-CUCO-17503-DE/px.gif> \\t <https://simg.1und1.de/2016/SPINMobile/02/SPIN281-CUCO-17503-DE/px.gif> \\t <https://simg.1und1.de/2016/SPINMobile/02/SPIN281-CUCO-17503-DE/px.gif> \\t <https://simg.1und1.de/2016/SPINMobile/02/SPIN281-CUCO-17503-DE/px.gif> \\t\\r\\n <https://simg.1und1.de/2016/SPINMobile/02/SPIN281-CUCO-17503-DE/px.gif> \\t\\r\\n <https://simg.1und1.de/2016/SPINMobile/02/SPIN281-CUCO-17503-DE/bullet.png> \\t\\r\\n <https://simg.1und1.de/2016/SPINMobile/02/SPIN281-CUCO-17503-DE/px.gif> \\tStändiger Zugriff auf Ihre 1&1 Mail Basic Postfächer mit jedem Browser\\t\\r\\n <https://simg.1und1.de/2016/SPINMobile/02/SPIN281-CUCO-17503-DE/px.gif> \\t\\t\\t\\r\\n <https://simg.1und1.de/2016/SPINMobile/02/SPIN281-CUCO-17503-DE/px.gif> \\t\\r\\n <https://simg.1und1.de/2016/SPINMobile/02/SPIN281-CUCO-17503-DE/bullet.png> \\t\\r\\n <https://simg.1und1.de/2016/SPINMobile/02/SPIN281-CUCO-17503-DE/px.gif> \\tWeltweit komfortable Bedienung dank der 1&1 Webmail-Oberfläche\\t\\r\\n <https://simg.1und1.de/2016/SPINMobile/02/SPIN281-CUCO-17503-DE/px.gif> \\t\\t\\t\\r\\n <https://simg.1und1.de/2016/SPINMobile/02/SPIN281-CUCO-17503-DE/px.gif> \\t\\r\\n <https://simg.1und1.de/2016/SPINMobile/02/SPIN281-CUCO-17503-DE/bullet.png> \\t\\r\\n <https://simg.1und1.de/2016/SPINMobile/02/SPIN281-CUCO-17503-DE/px.gif> \\tPersönliche Organisation mit Terminkalender sowie Verwalten von Aufgaben und Kontakten\\t\\r\\n <https://simg.1und1.de/2016/SPINMobile/02/SPIN281-CUCO-17503-DE/px.gif> \\t\\t\\t\\r\\n <https://simg.1und1.de/2016/SPINMobile/02/SPIN281-CUCO-17503-DE/px.gif> \\t\\r\\n <https://simg.1und1.de/2016/SPINMobile/02/SPIN281-CUCO-17503-DE/bullet.png> \\t\\r\\n <https://simg.1und1.de/2016/SPINMobile/02/SPIN281-CUCO-17503-DE/px.gif> \\tSicherer Schutz vor Phishing-E-Mails (gefälschte Nachrichten)\\t\\r\\n <https://simg.1und1.de/2016/SPINMobile/02/SPIN281-CUCO-17503-DE/px.gif> \\t\\t\\t\\r\\n <https://simg.1und1.de/2016/SPINMobile/02/SPIN281-CUCO-17503-DE/px.gif> \\t\\r\\n <https://simg.1und1.de/2016/SPINMobile/02/SPIN281-CUCO-17503-DE/bullet.png> \\t\\r\\n <https://simg.1und1.de/2016/SPINMobile/02/SPIN281-CUCO-17503-DE/px.gif> \\tE-Mail-Adressen individuell freischalten oder ablehnen (White- bzw. Blacklists)\\t\\r\\n <https://simg.1und1.de/2016/SPINMobile/02/SPIN281-CUCO-17503-DE/px.gif> \\t\\r\\n <https://simg.1und1.de/2016/SPINMobile/02/SPIN281-CUCO-17503-DE/px.gif> \\t\\r\\n <https://simg.1und1.de/2016/SPINMobile/02/SPIN281-CUCO-17503-DE/px.gif> \\t <https://simg.1und1.de/2016/SPINMobile/02/SPIN281-CUCO-17503-DE/px.gif> \\t <https://simg.1und1.de/2016/SPINMobile/02/SPIN281-CUCO-17503-DE/px.gif> \\t\\r\\n <https://simg.1und1.de/2016/SPINMobile/02/SPIN281-CUCO-17503-DE/px.gif> \\t <https://simg.1und1.de/2016/SPINMobile/02/SPIN281-CUCO-17503-DE/px.gif> \\t <https://simg.1und1.de/2016/SPINMobile/02/SPIN281-CUCO-17503-DE/px.gif> \\t\\r\\n <https://simg.1und1.de/2016/SPINMobile/02/SPIN281-CUCO-17503-DE/px.gif> \\t\\r\\n <https://simg.1und1.de/2016/SPINMobile/02/SPIN281-CUCO-17503-DE/px.gif> \\tÜberzeugen Sie sich selbst. Testen Sie den 1&1 Webmailer als Ihr Standard-E-Mail-Programm oder nutzen Sie ihn ergänzend zu Ihrem lokalen E-Mail-Programm. Er ist kostenfrei in Ihrem 1&1 Tarif enthalten. Sie können ihn sofort einsetzen – ohne etwas zu installieren.\\r\\n\\r\\nLoggen Sie sich einfach mit Ihrer E-Mail-Adresse und Ihrem Passwort im 1&1 Webmailer <https://webmailer.1und1.de/>  ein.\\r\\n\\r\\n <https://simg.1und1.de/2016/SPINMobile/02/SPIN281-CUCO-17503-DE/px.gif> \\t\\r\\n <https://simg.1und1.de/2016/SPINMobile/02/SPIN281-CUCO-17503-DE/px.gif> \\t <https://simg.1und1.de/2016/SPINMobile/02/SPIN281-CUCO-17503-DE/uwe_leyendecker_photo-5.jpg> \\t <https://simg.1und1.de/2016/SPINMobile/02/SPIN281-CUCO-17503-DE/px.gif> \\tIhr\\r\\n\\r\\n <https://simg.1und1.de/2016/SPINMobile/02/SPIN281-CUCO-17503-DE/px.gif> \\t\\r\\n <https://simg.1und1.de/2016/SPINMobile/02/SPIN281-CUCO-17503-DE/uwe_leyendecker-5.png> \\t\\r\\n <https://simg.1und1.de/2016/SPINMobile/02/SPIN281-CUCO-17503-DE/px.gif> \\t\\r\\n <https://simg.1und1.de/2016/SPINMobile/02/SPIN281-CUCO-17503-DE/px.gif> \\t\\r\\n\\r\\nUwe Leyendecker\\r\\n\\r\\nLeiter Kundenservice 1&1 Hosting\\r\\n\\r\\n <https://simg.1und1.de/2016/SPINMobile/02/SPIN281-CUCO-17503-DE/px.gif> \\t\\r\\n <https://simg.1und1.de/2016/SPINMobile/02/SPIN281-CUCO-17503-DE/px.gif> \\t\\r\\n\\r\\nHaben Sie Fragen oder Anregungen?\\r\\nDann senden Sie mir einfach eine kurze E-Mail an u.leyendecker@1und1.de <mailto:u.leyendecker@1und1.de> .\\r\\n\\r\\n <https://simg.1und1.de/2016/SPINMobile/02/SPIN281-CUCO-17503-DE/px.gif> \\t\\r\\n <https://simg.1und1.de/2016/SPINMobile/02/SPIN281-CUCO-17503-DE/px.gif> \\t\\r\\n <https://simg.1und1.de/2016/SPINMobile/02/SPIN281-CUCO-17503-DE/px.gif> \\t <https://simg.1und1.de/2016/SPINMobile/02/SPIN281-CUCO-17503-DE/px.gif> \\t <https://simg.1und1.de/2016/SPINMobile/02/SPIN281-CUCO-17503-DE/box_c6_title.png> \\t <https://simg.1und1.de/2016/SPINMobile/02/SPIN281-CUCO-17503-DE/px.gif> \\t\\t <https://simg.1und1.de/2016/SPINMobile/02/SPIN281-CUCO-17503-DE/px.gif> \\t\\r\\n <https://simg.1und1.de/2016/SPINMobile/02/SPIN281-CUCO-17503-DE/px.gif> \\t <https://simg.1und1.de/2016/SPINMobile/02/SPIN281-CUCO-17503-DE/px.gif> \\t <https://simg.1und1.de/2016/SPINMobile/02/SPIN281-CUCO-17503-DE/px.gif> \\t <https://simg.1und1.de/2016/SPINMobile/02/SPIN281-CUCO-17503-DE/px.gif> \\t\\r\\n\\r\\nBenötigen Sie weitere Informationen? Besuchen Sie uns einfach in unserem 1&1 Hilfe-Center und 1&1 Control-Center.\\r\\n\\r\\n <https://simg.1und1.de/2016/SPINMobile/02/SPIN281-CUCO-17503-DE/px.gif> \\t\\r\\n <https://simg.1und1.de/2016/SPINMobile/02/SPIN281-CUCO-17503-DE/px.gif> \\t <https://simg.1und1.de/2016/SPINMobile/02/SPIN281-CUCO-17503-DE/service-para-help.png> \\t <https://simg.1und1.de/2016/SPINMobile/02/SPIN281-CUCO-17503-DE/px.gif> \\tZum 1&1 Hilfe-Center <http://hilfe-center.1und1.de/hosting> : Ein Klick und Sie finden umfangreiche Anleitungen & Hilfestellungen zu 1&1 Produkten und zu unserem Service.\\r\\n\\r\\n <https://simg.1und1.de/2016/SPINMobile/02/SPIN281-CUCO-17503-DE/px.gif> \\t\\r\\n <https://simg.1und1.de/2016/SPINMobile/02/SPIN281-CUCO-17503-DE/px.gif> \\t\\r\\n <https://simg.1und1.de/2016/SPINMobile/02/SPIN281-CUCO-17503-DE/px.gif> \\t\\r\\n <https://simg.1und1.de/2016/SPINMobile/02/SPIN281-CUCO-17503-DE/px.gif> \\t <https://simg.1und1.de/2016/SPINMobile/02/SPIN281-CUCO-17503-DE/service-para-controlcenter.png> \\t <https://simg.1und1.de/2016/SPINMobile/02/SPIN281-CUCO-17503-DE/px.gif> \\tZum 1&1 Control-Center <https://www.1und1.de/login> : Hier haben Sie direkten Zugriff auf Ihren 1&1 Vertrag und Ihre Produkteinstellungen.\\r\\n\\r\\n <https://simg.1und1.de/2016/SPINMobile/02/SPIN281-CUCO-17503-DE/px.gif> \\t\\r\\n <https://simg.1und1.de/2016/SPINMobile/02/SPIN281-CUCO-17503-DE/px.gif> \\t\\r\\n <https://simg.1und1.de/2016/SPINMobile/02/SPIN281-CUCO-17503-DE/px.gif> \\t\\r\\n <https://simg.1und1.de/2016/SPINMobile/02/SPIN281-CUCO-17503-DE/px.gif> \\t <https://simg.1und1.de/2016/SPINMobile/02/SPIN281-CUCO-17503-DE/service-para-hotline.png> \\t <https://simg.1und1.de/2016/SPINMobile/02/SPIN281-CUCO-17503-DE/px.gif> \\tSie erreichen uns rund um die Uhr – kostenlos aus dem Netz von 1&1 – unter der Rufnummer 0721 96 00.\\r\\n\\r\\n <https://simg.1und1.de/2016/SPINMobile/02/SPIN281-CUCO-17503-DE/px.gif> \\t\\r\\n <https://simg.1und1.de/2016/SPINMobile/02/SPIN281-CUCO-17503-DE/px.gif> \\t\\r\\n <https://simg.1und1.de/2016/SPINMobile/02/SPIN281-CUCO-17503-DE/px.gif> \\t <https://simg.1und1.de/2016/SPINMobile/02/SPIN281-CUCO-17503-DE/service-para-eur.png> \\t <https://simg.1und1.de/2016/SPINMobile/02/SPIN281-CUCO-17503-DE/px.gif> \\tJetzt empfehlen & attraktive Prämie sichern!\\r\\n1&1 Kunde wirbt Kunde <http://www.1und1.de/kwk?ac=OM.AD.ADe99K244558T7073a> : Begeistern Sie Ihre Freunde und Bekannten für 1&1 Produkte und wir bedanken uns mit attraktiven Prämien.\\r\\n\\r\\n <https://simg.1und1.de/2016/SPINMobile/02/SPIN281-CUCO-17503-DE/px.gif> \\t\\r\\n <https://simg.1und1.de/2016/SPINMobile/02/SPIN281-CUCO-17503-DE/px.gif> \\t <https://simg.1und1.de/2016/SPINMobile/02/SPIN281-CUCO-17503-DE/px.gif> \\t <https://simg.1und1.de/2016/SPINMobile/02/SPIN281-CUCO-17503-DE/px.gif> \\t\\r\\n <https://simg.1und1.de/2016/SPINMobile/02/SPIN281-CUCO-17503-DE/px.gif> \\t <https://simg.1und1.de/2016/SPINMobile/02/SPIN281-CUCO-17503-DE/px.gif> \\t <https://simg.1und1.de/2016/SPINMobile/02/SPIN281-CUCO-17503-DE/px.gif> \\t\\r\\n <https://simg.1und1.de/2016/SPINMobile/02/SPIN281-CUCO-17503-DE/px.gif> \\t\\r\\n <https://simg.1und1.de/2016/SPINMobile/02/SPIN281-CUCO-17503-DE/px.gif> \\t281-17503-DE\\t <https://simg.1und1.de/2016/SPINMobile/02/SPIN281-CUCO-17503-DE/ui_logo_de.png> \\t\\r\\n <https://simg.1und1.de/2016/SPINMobile/02/SPIN281-CUCO-17503-DE/px.gif> \\t\\r\\n <https://simg.1und1.de/2016/SPINMobile/02/SPIN281-CUCO-17503-DE/px.gif> \\t\\r\\n <https://simg.1und1.de/2016/SPINMobile/02/SPIN281-CUCO-17503-DE/footer_bottom.png> \\t\\r\\n <https://simg.1und1.de/2016/SPINMobile/02/SPIN281-CUCO-17503-DE/px.gif> \\t\\r\\n\\t\\r\\n <https://spin.1und1.de/rygnarok/mailings/newsletters/SPIN281-CUCO-17503-DE/assets/px.gif?tstamp=fdd31e3746cf7a55b84dd6250b81087c> '"
      ]
     },
     "execution_count": 24,
     "metadata": {},
     "output_type": "execute_result"
    }
   ],
   "source": [
    "import re\n",
    "\n",
    "message.Body"
   ]
  },
  {
   "cell_type": "markdown",
   "metadata": {},
   "source": []
  }
 ],
 "metadata": {
  "interpreter": {
   "hash": "fec082384bf153efa1fdf03b8e02aaf3c76cad9c4b2839c057b40a342e3cf5d9"
  },
  "kernelspec": {
   "display_name": "Python 3.8.8 64-bit",
   "language": "python",
   "name": "python3"
  },
  "language_info": {
   "codemirror_mode": {
    "name": "ipython",
    "version": 3
   },
   "file_extension": ".py",
   "mimetype": "text/x-python",
   "name": "python",
   "nbconvert_exporter": "python",
   "pygments_lexer": "ipython3",
   "version": "3.8.8"
  },
  "orig_nbformat": 4
 },
 "nbformat": 4,
 "nbformat_minor": 2
}
