{
 "cells": [
  {
   "cell_type": "code",
   "execution_count": 20,
   "metadata": {},
   "outputs": [],
   "source": [
    "from win32com.client import Dispatch\n",
    "import win32com\n",
    "import os\n",
    "import sys\n",
    "\n",
    "f = open(\"testfile.txt\",\"w+\")\n",
    "\n",
    "mapi = Dispatch(\"Outlook.Application\").GetNamespace(\"MAPI\")\n",
    "inbox = mapi.GetDefaultFolder(6)\n",
    "messages = list(inbox.Items)\n"
   ]
  },
  {
   "cell_type": "code",
   "execution_count": 16,
   "metadata": {},
   "outputs": [
    {
     "ename": "TypeError",
     "evalue": "This object does not support enumeration",
     "output_type": "error",
     "traceback": [
      "\u001b[1;31m---------------------------------------------------------------------------\u001b[0m",
      "\u001b[1;31mTypeError\u001b[0m                                 Traceback (most recent call last)",
      "\u001b[1;32mc:\\Users\\ahofer\\Projekt\\devwiki\\Notebooks\\scrape_mail_contacts.ipynb Cell 2'\u001b[0m in \u001b[0;36m<cell line: 1>\u001b[1;34m()\u001b[0m\n\u001b[1;32m----> <a href='vscode-notebook-cell:/c%3A/Users/ahofer/Projekt/devwiki/Notebooks/scrape_mail_contacts.ipynb#ch0000001?line=0'>1</a>\u001b[0m \u001b[39mfor\u001b[39;00m message \u001b[39min\u001b[39;00m \u001b[39mlist\u001b[39m(messages)[\u001b[39m0\u001b[39m]:\n\u001b[0;32m      <a href='vscode-notebook-cell:/c%3A/Users/ahofer/Projekt/devwiki/Notebooks/scrape_mail_contacts.ipynb#ch0000001?line=1'>2</a>\u001b[0m    s \u001b[39m=\u001b[39m message\u001b[39m.\u001b[39msender\n",
      "File \u001b[1;32m~\\AppData\\Local\\Programs\\Python\\Python38\\lib\\site-packages\\win32com\\client\\dynamic.py:331\u001b[0m, in \u001b[0;36mCDispatch.__getitem__\u001b[1;34m(self, index)\u001b[0m\n\u001b[0;32m    <a href='file:///c%3A/Users/ahofer/AppData/Local/Programs/Python/Python38/lib/site-packages/win32com/client/dynamic.py?line=326'>327</a>\u001b[0m \u001b[39mif\u001b[39;00m invkind \u001b[39mis\u001b[39;00m \u001b[39mnot\u001b[39;00m \u001b[39mNone\u001b[39;00m:\n\u001b[0;32m    <a href='file:///c%3A/Users/ahofer/AppData/Local/Programs/Python/Python38/lib/site-packages/win32com/client/dynamic.py?line=327'>328</a>\u001b[0m     \u001b[39mreturn\u001b[39;00m \u001b[39mself\u001b[39m\u001b[39m.\u001b[39m_get_good_object_(\n\u001b[0;32m    <a href='file:///c%3A/Users/ahofer/AppData/Local/Programs/Python/Python38/lib/site-packages/win32com/client/dynamic.py?line=328'>329</a>\u001b[0m         \u001b[39mself\u001b[39m\u001b[39m.\u001b[39m_oleobj_\u001b[39m.\u001b[39mInvoke(dispid, LCID, invkind, \u001b[39m1\u001b[39m, index)\n\u001b[0;32m    <a href='file:///c%3A/Users/ahofer/AppData/Local/Programs/Python/Python38/lib/site-packages/win32com/client/dynamic.py?line=329'>330</a>\u001b[0m     )\n\u001b[1;32m--> <a href='file:///c%3A/Users/ahofer/AppData/Local/Programs/Python/Python38/lib/site-packages/win32com/client/dynamic.py?line=330'>331</a>\u001b[0m \u001b[39mraise\u001b[39;00m \u001b[39mTypeError\u001b[39;00m(\u001b[39m\"\u001b[39m\u001b[39mThis object does not support enumeration\u001b[39m\u001b[39m\"\u001b[39m)\n",
      "\u001b[1;31mTypeError\u001b[0m: This object does not support enumeration"
     ]
    }
   ],
   "source": [
    "\n",
    "for message in list(messages)[0]:\n",
    "   s = message.sender\n"
   ]
  },
  {
   "cell_type": "code",
   "execution_count": 21,
   "metadata": {},
   "outputs": [
    {
     "data": {
      "text/plain": [
       "<COMObject <unknown>>"
      ]
     },
     "execution_count": 21,
     "metadata": {},
     "output_type": "execute_result"
    }
   ],
   "source": [
    "messages[0]"
   ]
  },
  {
   "cell_type": "markdown",
   "metadata": {},
   "source": []
  }
 ],
 "metadata": {
  "interpreter": {
   "hash": "fec082384bf153efa1fdf03b8e02aaf3c76cad9c4b2839c057b40a342e3cf5d9"
  },
  "kernelspec": {
   "display_name": "Python 3.8.8 64-bit",
   "language": "python",
   "name": "python3"
  },
  "language_info": {
   "codemirror_mode": {
    "name": "ipython",
    "version": 3
   },
   "file_extension": ".py",
   "mimetype": "text/x-python",
   "name": "python",
   "nbconvert_exporter": "python",
   "pygments_lexer": "ipython3",
   "version": "3.8.8"
  },
  "orig_nbformat": 4
 },
 "nbformat": 4,
 "nbformat_minor": 2
}
