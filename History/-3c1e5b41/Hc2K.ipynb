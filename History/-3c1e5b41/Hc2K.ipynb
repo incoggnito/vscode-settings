{
 "cells": [
  {
   "cell_type": "code",
   "execution_count": 1,
   "metadata": {},
   "outputs": [
    {
     "ename": "AttributeError",
     "evalue": "module 'win32com' has no attribute 'client'",
     "output_type": "error",
     "traceback": [
      "\u001b[1;31m---------------------------------------------------------------------------\u001b[0m",
      "\u001b[1;31mAttributeError\u001b[0m                            Traceback (most recent call last)",
      "\u001b[1;32mc:\\Users\\ahofer\\Projekt\\devwiki\\Notebooks\\scrape_mail_contacts.ipynb Cell 1'\u001b[0m in \u001b[0;36m<cell line: 3>\u001b[1;34m()\u001b[0m\n\u001b[0;32m      <a href='vscode-notebook-cell:/c%3A/Users/ahofer/Projekt/devwiki/Notebooks/scrape_mail_contacts.ipynb#ch0000000?line=0'>1</a>\u001b[0m \u001b[39mimport\u001b[39;00m \u001b[39mwin32com\u001b[39;00m\n\u001b[1;32m----> <a href='vscode-notebook-cell:/c%3A/Users/ahofer/Projekt/devwiki/Notebooks/scrape_mail_contacts.ipynb#ch0000000?line=2'>3</a>\u001b[0m outlook \u001b[39m=\u001b[39m win32com\u001b[39m.\u001b[39;49mclient\u001b[39m.\u001b[39mDispatch(\u001b[39m\"\u001b[39m\u001b[39mOutlook.Application\u001b[39m\u001b[39m\"\u001b[39m)\u001b[39m.\u001b[39mGetNamespace(\u001b[39m\"\u001b[39m\u001b[39mMAPI\u001b[39m\u001b[39m\"\u001b[39m)\n\u001b[0;32m      <a href='vscode-notebook-cell:/c%3A/Users/ahofer/Projekt/devwiki/Notebooks/scrape_mail_contacts.ipynb#ch0000000?line=3'>4</a>\u001b[0m accounts\u001b[39m=\u001b[39m win32com\u001b[39m.\u001b[39mclient\u001b[39m.\u001b[39mDispatch(\u001b[39m\"\u001b[39m\u001b[39mOutlook.Application\u001b[39m\u001b[39m\"\u001b[39m)\u001b[39m.\u001b[39mSession\u001b[39m.\u001b[39mAccounts\n",
      "\u001b[1;31mAttributeError\u001b[0m: module 'win32com' has no attribute 'client'"
     ]
    }
   ],
   "source": [
    "import win32com\n",
    "\n",
    "outlook = win32com.client.Dispatch(\"Outlook.Application\").GetNamespace(\"MAPI\")\n",
    "accounts= win32com.client.Dispatch(\"Outlook.Application\").Session.Accounts\n"
   ]
  }
 ],
 "metadata": {
  "interpreter": {
   "hash": "fec082384bf153efa1fdf03b8e02aaf3c76cad9c4b2839c057b40a342e3cf5d9"
  },
  "kernelspec": {
   "display_name": "Python 3.8.8 64-bit",
   "language": "python",
   "name": "python3"
  },
  "language_info": {
   "codemirror_mode": {
    "name": "ipython",
    "version": 3
   },
   "file_extension": ".py",
   "mimetype": "text/x-python",
   "name": "python",
   "nbconvert_exporter": "python",
   "pygments_lexer": "ipython3",
   "version": "3.8.8"
  },
  "orig_nbformat": 4
 },
 "nbformat": 4,
 "nbformat_minor": 2
}
