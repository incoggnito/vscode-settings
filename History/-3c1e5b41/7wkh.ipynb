{
 "cells": [
  {
   "cell_type": "code",
   "execution_count": 20,
   "metadata": {},
   "outputs": [],
   "source": [
    "from win32com.client import Dispatch\n",
    "import win32com\n",
    "import os\n",
    "import sys\n",
    "\n",
    "f = open(\"testfile.txt\",\"w+\")\n",
    "\n",
    "mapi = Dispatch(\"Outlook.Application\").GetNamespace(\"MAPI\")\n",
    "inbox = mapi.GetDefaultFolder(6)\n",
    "messages = list(inbox.Items)\n"
   ]
  },
  {
   "cell_type": "code",
   "execution_count": 27,
   "metadata": {},
   "outputs": [],
   "source": [
    "\n",
    "contacts = {}\n",
    "for message in messages[:3]:\n",
    "   contacts[\"mail\"] = message.sender\n"
   ]
  },
  {
   "cell_type": "code",
   "execution_count": 29,
   "metadata": {},
   "outputs": [
    {
     "data": {
      "text/plain": [
       "[' 382 3230', '151 601 3230', ' 171 2939']"
      ]
     },
     "execution_count": 29,
     "metadata": {},
     "output_type": "execute_result"
    }
   ],
   "source": [
    "import re\n",
    "numbers = (re.findall(r\"((?:\\d{3}|\\(\\d{3}\\))?(?:\\s|-|\\.)?\\d{3}(?:\\s|-|\\.)\\d{4})\",message.body))\n",
    "numbers"
   ]
  },
  {
   "cell_type": "markdown",
   "metadata": {},
   "source": []
  }
 ],
 "metadata": {
  "interpreter": {
   "hash": "fec082384bf153efa1fdf03b8e02aaf3c76cad9c4b2839c057b40a342e3cf5d9"
  },
  "kernelspec": {
   "display_name": "Python 3.8.8 64-bit",
   "language": "python",
   "name": "python3"
  },
  "language_info": {
   "codemirror_mode": {
    "name": "ipython",
    "version": 3
   },
   "file_extension": ".py",
   "mimetype": "text/x-python",
   "name": "python",
   "nbconvert_exporter": "python",
   "pygments_lexer": "ipython3",
   "version": "3.8.8"
  },
  "orig_nbformat": 4
 },
 "nbformat": 4,
 "nbformat_minor": 2
}
