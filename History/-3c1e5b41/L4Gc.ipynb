{
 "cells": [
  {
   "cell_type": "code",
   "execution_count": 20,
   "metadata": {},
   "outputs": [],
   "source": [
    "from win32com.client import Dispatch\n",
    "import win32com\n",
    "import os\n",
    "import sys\n",
    "\n",
    "f = open(\"testfile.txt\",\"w+\")\n",
    "\n",
    "mapi = Dispatch(\"Outlook.Application\").GetNamespace(\"MAPI\")\n",
    "inbox = mapi.GetDefaultFolder(6)\n",
    "messages = list(inbox.Items)\n"
   ]
  },
  {
   "cell_type": "code",
   "execution_count": 36,
   "metadata": {},
   "outputs": [
    {
     "ename": "AttributeError",
     "evalue": "<unknown>.phone",
     "output_type": "error",
     "traceback": [
      "\u001b[1;31m---------------------------------------------------------------------------\u001b[0m",
      "\u001b[1;31mAttributeError\u001b[0m                            Traceback (most recent call last)",
      "\u001b[1;32mc:\\Users\\ahofer\\Projekt\\devwiki\\Notebooks\\scrape_mail_contacts.ipynb Cell 2'\u001b[0m in \u001b[0;36m<cell line: 6>\u001b[1;34m()\u001b[0m\n\u001b[0;32m      <a href='vscode-notebook-cell:/c%3A/Users/ahofer/Projekt/devwiki/Notebooks/scrape_mail_contacts.ipynb#ch0000001?line=5'>6</a>\u001b[0m \u001b[39mfor\u001b[39;00m message \u001b[39min\u001b[39;00m messages[:\u001b[39m3\u001b[39m]:\n\u001b[0;32m      <a href='vscode-notebook-cell:/c%3A/Users/ahofer/Projekt/devwiki/Notebooks/scrape_mail_contacts.ipynb#ch0000001?line=6'>7</a>\u001b[0m    contacts[\u001b[39m\"\u001b[39m\u001b[39mmail\u001b[39m\u001b[39m\"\u001b[39m] \u001b[39m=\u001b[39m message\u001b[39m.\u001b[39msender\n\u001b[1;32m----> <a href='vscode-notebook-cell:/c%3A/Users/ahofer/Projekt/devwiki/Notebooks/scrape_mail_contacts.ipynb#ch0000001?line=7'>8</a>\u001b[0m    contacts[\u001b[39m\"\u001b[39m\u001b[39mpone\u001b[39m\u001b[39m\"\u001b[39m] \u001b[39m=\u001b[39m message\u001b[39m.\u001b[39;49mphone\n",
      "File \u001b[1;32m~\\AppData\\Local\\Programs\\Python\\Python38\\lib\\site-packages\\win32com\\client\\dynamic.py:639\u001b[0m, in \u001b[0;36mCDispatch.__getattr__\u001b[1;34m(self, attr)\u001b[0m\n\u001b[0;32m    <a href='file:///c%3A/Users/ahofer/AppData/Local/Programs/Python/Python38/lib/site-packages/win32com/client/dynamic.py?line=635'>636</a>\u001b[0m     \u001b[39mreturn\u001b[39;00m \u001b[39mself\u001b[39m\u001b[39m.\u001b[39m_get_good_object_(ret)\n\u001b[0;32m    <a href='file:///c%3A/Users/ahofer/AppData/Local/Programs/Python/Python38/lib/site-packages/win32com/client/dynamic.py?line=637'>638</a>\u001b[0m \u001b[39m# no where else to look.\u001b[39;00m\n\u001b[1;32m--> <a href='file:///c%3A/Users/ahofer/AppData/Local/Programs/Python/Python38/lib/site-packages/win32com/client/dynamic.py?line=638'>639</a>\u001b[0m \u001b[39mraise\u001b[39;00m \u001b[39mAttributeError\u001b[39;00m(\u001b[39m\"\u001b[39m\u001b[39m%s\u001b[39;00m\u001b[39m.\u001b[39m\u001b[39m%s\u001b[39;00m\u001b[39m\"\u001b[39m \u001b[39m%\u001b[39m (\u001b[39mself\u001b[39m\u001b[39m.\u001b[39m_username_, attr))\n",
      "\u001b[1;31mAttributeError\u001b[0m: <unknown>.phone"
     ]
    }
   ],
   "source": [
    "import re\n",
    "def getPhone(string):\n",
    "   return re.findall(r\"\\+\\d{2}\\s?0?\\d{10}\",string)\n",
    "\n",
    "contacts = {}\n",
    "for message in messages[:3]:\n",
    "   contacts[message.sender] = getPhone(message.Body)\n"
   ]
  },
  {
   "cell_type": "code",
   "execution_count": 35,
   "metadata": {},
   "outputs": [
    {
     "data": {
      "text/plain": [
       "''"
      ]
     },
     "execution_count": 35,
     "metadata": {},
     "output_type": "execute_result"
    }
   ],
   "source": [
    "\n",
    "\n"
   ]
  },
  {
   "cell_type": "markdown",
   "metadata": {},
   "source": []
  }
 ],
 "metadata": {
  "interpreter": {
   "hash": "fec082384bf153efa1fdf03b8e02aaf3c76cad9c4b2839c057b40a342e3cf5d9"
  },
  "kernelspec": {
   "display_name": "Python 3.8.8 64-bit",
   "language": "python",
   "name": "python3"
  },
  "language_info": {
   "codemirror_mode": {
    "name": "ipython",
    "version": 3
   },
   "file_extension": ".py",
   "mimetype": "text/x-python",
   "name": "python",
   "nbconvert_exporter": "python",
   "pygments_lexer": "ipython3",
   "version": "3.8.8"
  },
  "orig_nbformat": 4
 },
 "nbformat": 4,
 "nbformat_minor": 2
}
